a = input("What is your name : ")
print ("what is your name?" a)
