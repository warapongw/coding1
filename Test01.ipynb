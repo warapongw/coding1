{
  "nbformat": 4,
  "nbformat_minor": 0,
  "metadata": {
    "colab": {
      "name": "Test01.ipynb",
      "provenance": [],
      "authorship_tag": "ABX9TyP8HbrAod6wu8V/JplAmsr3",
      "include_colab_link": true
    },
    "kernelspec": {
      "name": "python3",
      "display_name": "Python 3"
    },
    "language_info": {
      "name": "python"
    }
  },
  "cells": [
    {
      "cell_type": "markdown",
      "metadata": {
        "id": "view-in-github",
        "colab_type": "text"
      },
      "source": [
        "<a href=\"https://colab.research.google.com/github/warapongw/coding1/blob/main/Test01.ipynb\" target=\"_parent\"><img src=\"https://colab.research.google.com/assets/colab-badge.svg\" alt=\"Open In Colab\"/></a>"
      ]
    },
    {
      "cell_type": "code",
      "execution_count": null,
      "metadata": {
        "id": "ZGYiOrs_p-Je"
      },
      "outputs": [],
      "source": [
        "print (\"What is your name\")\n",
        "print (\"My name is Warapong\")\n",
        "Print (\"Hello Warapong\")"
      ]
    }
  ]
}